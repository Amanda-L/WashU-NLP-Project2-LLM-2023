{
  "cells": [
    {
      "cell_type": "markdown",
      "metadata": {
        "id": "qEp_Gfvve7Wb"
      },
      "source": [
        "# **Assignment 2 - Language Models**\n",
        "#### **Due: September 28, 2023, 11:59PM**"
      ]
    },
    {
      "cell_type": "markdown",
      "metadata": {
        "id": "c0mQO36cfN_9"
      },
      "source": [
        "### **Notes**\n",
        "\n",
        "### **Introduction**\n",
        "\n",
        "Welcome to CSE 527A. Each assignment will contain two parts: a written and coding portion. The coding portion for each homework assignment will be delivered through a Colaboratory notebook such as this one. Please use as many code and markdown cells to run and explain all the steps you took in order to answer each question for each problem. Please keep in mind the collaboration policy as specified in the Academic Integrity section of the syllabus and cite all external sources and/or collaborators.\n",
        "\n",
        "### **Comments/Documentation**\n",
        "\n",
        "Please follow PEP 8 style guidelines (https://peps.python.org/pep-0008/) for commenting your code. Furthermore, please remember to manually save your work once in a while. If you are connected to a hosted runtime that if for whatever reason it disconnects you will have to rerun all connected code cells.\n",
        "\n",
        "### **Getting Started**\n",
        "\n",
        "In order to compile code efficiently, enable GPU support.\n",
        "\n",
        "To access a GPU, go to `Edit->Notebook settings` and in the `Hardware accelerator` dropdown choose `GPU`.\n",
        "As soon as you run a code cell, you will be connected to a cloud instance with a GPU.\n",
        "Try running the code cell below to check that a GPU is connected (select the cell then either click the play button at the top left or press `Ctrl+Enter` or `Shift+Enter`).\n",
        "\n",
        "The free version of Google Colab will provide the necessary hardware for this course. Please keep in mind the RAM and Disk Space that you are allocated and that you are not given an infinite active runtime.\n",
        "\n",
        "### **Submission Instructions**\n",
        "\n",
        "We will use Gradescope for assignment submission. Submit the written and code portions of the assignment to the respective assignments. **Please note if notebook output is cleared, you will receive a 0**. To download this notebook, go to `File->Download .ipynb`.\n",
        "\n",
        "When submitting your ipython notebooks, make sure everything runs correctly if the cells are executed in order starting from a fresh session.  Note that just because a cell runs in your current session doesn't mean it doesn't rely on code that you have already changed or deleted.\n",
        "\n",
        "Note that Gradesope will allow you to submit multiple times before the deadline, and we will use the latest submission for grading."
      ]
    },
    {
      "cell_type": "markdown",
      "metadata": {
        "id": "0hrjsO05g9PS"
      },
      "source": [
        "## **Setup**"
      ]
    },
    {
      "cell_type": "code",
      "execution_count": null,
      "metadata": {
        "colab": {
          "base_uri": "https://localhost:8080/"
        },
        "id": "vNW-H4F3hNUB",
        "outputId": "3ab72e70-b465-4012-c7e5-1c565322b5f4"
      },
      "outputs": [
        {
          "name": "stdout",
          "output_type": "stream",
          "text": [
            "Drive already mounted at /content/gdrive; to attempt to forcibly remount, call drive.mount(\"/content/gdrive\", force_remount=True).\n",
            "/bin/bash: line 1: nvidia-smi: command not found\n"
          ]
        }
      ],
      "source": [
        "from google.colab import drive # one option to load datasets\n",
        "from google.colab import files\n",
        "drive.mount('/content/gdrive')\n",
        "!nvidia-smi -L # check if using GPU"
      ]
    },
    {
      "cell_type": "code",
      "execution_count": null,
      "metadata": {
        "id": "TWF6TvxkUbZ0"
      },
      "outputs": [],
      "source": [
        "# various imports you might find useful, feel free to import additional packages\n",
        "import torch\n",
        "import torch.nn as nn\n",
        "import torch.nn.functional as F\n",
        "from torch.nn.utils.rnn import pad_sequence\n",
        "from torch.utils.data import DataLoader, TensorDataset\n",
        "from torch import Tensor\n",
        "import numpy as np\n",
        "import matplotlib.pyplot as plt\n",
        "import pandas as pd\n",
        "import time\n",
        "from torch import optim\n",
        "import torchvision\n",
        "import torchvision.transforms as transforms\n",
        "from tqdm import tqdm\n",
        "# PyTorch TensorBoard support\n",
        "from torch.utils.tensorboard import SummaryWriter\n",
        "from datetime import datetime\n",
        "import tensorflow as tf"
      ]
    },
    {
      "cell_type": "code",
      "execution_count": null,
      "metadata": {
        "colab": {
          "base_uri": "https://localhost:8080/"
        },
        "id": "KppGhZ5ZdGrb",
        "outputId": "e8491c68-70ca-40c8-84fa-4cc213fba014"
      },
      "outputs": [
        {
          "name": "stdout",
          "output_type": "stream",
          "text": [
            "Requirement already satisfied: datasets in /usr/local/lib/python3.10/dist-packages (2.14.5)\n",
            "Requirement already satisfied: numpy>=1.17 in /usr/local/lib/python3.10/dist-packages (from datasets) (1.23.5)\n",
            "Requirement already satisfied: pyarrow>=8.0.0 in /usr/local/lib/python3.10/dist-packages (from datasets) (9.0.0)\n",
            "Requirement already satisfied: dill<0.3.8,>=0.3.0 in /usr/local/lib/python3.10/dist-packages (from datasets) (0.3.7)\n",
            "Requirement already satisfied: pandas in /usr/local/lib/python3.10/dist-packages (from datasets) (1.5.3)\n",
            "Requirement already satisfied: requests>=2.19.0 in /usr/local/lib/python3.10/dist-packages (from datasets) (2.31.0)\n",
            "Requirement already satisfied: tqdm>=4.62.1 in /usr/local/lib/python3.10/dist-packages (from datasets) (4.66.1)\n",
            "Requirement already satisfied: xxhash in /usr/local/lib/python3.10/dist-packages (from datasets) (3.3.0)\n",
            "Requirement already satisfied: multiprocess in /usr/local/lib/python3.10/dist-packages (from datasets) (0.70.15)\n",
            "Requirement already satisfied: fsspec[http]<2023.9.0,>=2023.1.0 in /usr/local/lib/python3.10/dist-packages (from datasets) (2023.6.0)\n",
            "Requirement already satisfied: aiohttp in /usr/local/lib/python3.10/dist-packages (from datasets) (3.8.5)\n",
            "Requirement already satisfied: huggingface-hub<1.0.0,>=0.14.0 in /usr/local/lib/python3.10/dist-packages (from datasets) (0.17.3)\n",
            "Requirement already satisfied: packaging in /usr/local/lib/python3.10/dist-packages (from datasets) (23.1)\n",
            "Requirement already satisfied: pyyaml>=5.1 in /usr/local/lib/python3.10/dist-packages (from datasets) (6.0.1)\n",
            "Requirement already satisfied: attrs>=17.3.0 in /usr/local/lib/python3.10/dist-packages (from aiohttp->datasets) (23.1.0)\n",
            "Requirement already satisfied: charset-normalizer<4.0,>=2.0 in /usr/local/lib/python3.10/dist-packages (from aiohttp->datasets) (3.2.0)\n",
            "Requirement already satisfied: multidict<7.0,>=4.5 in /usr/local/lib/python3.10/dist-packages (from aiohttp->datasets) (6.0.4)\n",
            "Requirement already satisfied: async-timeout<5.0,>=4.0.0a3 in /usr/local/lib/python3.10/dist-packages (from aiohttp->datasets) (4.0.3)\n",
            "Requirement already satisfied: yarl<2.0,>=1.0 in /usr/local/lib/python3.10/dist-packages (from aiohttp->datasets) (1.9.2)\n",
            "Requirement already satisfied: frozenlist>=1.1.1 in /usr/local/lib/python3.10/dist-packages (from aiohttp->datasets) (1.4.0)\n",
            "Requirement already satisfied: aiosignal>=1.1.2 in /usr/local/lib/python3.10/dist-packages (from aiohttp->datasets) (1.3.1)\n",
            "Requirement already satisfied: filelock in /usr/local/lib/python3.10/dist-packages (from huggingface-hub<1.0.0,>=0.14.0->datasets) (3.12.2)\n",
            "Requirement already satisfied: typing-extensions>=3.7.4.3 in /usr/local/lib/python3.10/dist-packages (from huggingface-hub<1.0.0,>=0.14.0->datasets) (4.5.0)\n",
            "Requirement already satisfied: idna<4,>=2.5 in /usr/local/lib/python3.10/dist-packages (from requests>=2.19.0->datasets) (3.4)\n",
            "Requirement already satisfied: urllib3<3,>=1.21.1 in /usr/local/lib/python3.10/dist-packages (from requests>=2.19.0->datasets) (2.0.4)\n",
            "Requirement already satisfied: certifi>=2017.4.17 in /usr/local/lib/python3.10/dist-packages (from requests>=2.19.0->datasets) (2023.7.22)\n",
            "Requirement already satisfied: python-dateutil>=2.8.1 in /usr/local/lib/python3.10/dist-packages (from pandas->datasets) (2.8.2)\n",
            "Requirement already satisfied: pytz>=2020.1 in /usr/local/lib/python3.10/dist-packages (from pandas->datasets) (2023.3.post1)\n",
            "Requirement already satisfied: six>=1.5 in /usr/local/lib/python3.10/dist-packages (from python-dateutil>=2.8.1->pandas->datasets) (1.16.0)\n"
          ]
        }
      ],
      "source": [
        "! pip install datasets"
      ]
    },
    {
      "cell_type": "code",
      "execution_count": null,
      "metadata": {
        "id": "dDvzHG_RdGrc"
      },
      "outputs": [],
      "source": [
        "\n",
        "from datasets import load_dataset\n",
        "\n",
        "# Load the dataset\n",
        "trainset = load_dataset(\"wikitext\", name=\"wikitext-2-v1\", split=\"train\")\n",
        "valset = load_dataset(\"wikitext\", name=\"wikitext-2-v1\", split=\"validation\")\n",
        "testset = load_dataset(\"wikitext\", name=\"wikitext-2-v1\", split=\"test\")\n",
        "\n",
        "# Preprocess text\n",
        "punctuation = list(\"~!@#$%^&*()_+`{}|\\[\\]\\:\\\";\\-\\\\\\='<>?,./，。、《》？；：‘“{【】}|、！@#￥%……&*（）——+=-\")\n",
        "def preprocess(dataset):\n",
        "  data = []\n",
        "  for text in dataset['text']:\n",
        "    # Ignore emtpy sentences\n",
        "    if text == '':\n",
        "      continue\n",
        "    # Remove puncutation and unknown tokens\n",
        "    tokens = [t for t in text.split() if t != '' and t not in punctuation and t != '<unk>']\n",
        "    data.append(tokens)\n",
        "  return data\n",
        "traindata = preprocess(trainset)\n",
        "valdata = preprocess(valset)\n",
        "testdata = preprocess(testset)"
      ]
    },
    {
      "cell_type": "markdown",
      "metadata": {
        "id": "dhCuafE5UCmK"
      },
      "source": [
        "# Problem 1\n",
        "(Eisenstein Ch. 6) Using the Pytorch library, train an LSTM language model from the same Wikitext training corpus you used in problem 1. After each epoch of training, compute its perplexity on the Wikitext validation corpus. Stop training when the perplexity stops improving.\n",
        "\n",
        "1. Fully describe your model architecture, hyperparameters, and experimental procedure.\n",
        "2. After each epoch of training, compute your LM’s perplexity on the development data. Plot the development perplexity against # of epochs. Additionally, compute and report the perplexity on test\n",
        "data.\n",
        "\n",
        "**NOTE:** This may take some time, so you should start early. Also, you should use a GPU. When using PyTorch, you can move your model and data to the GPU with the following commands:\n",
        "\n",
        "```\n",
        "device = torch.device(\"cuda:0\" if torch.cuda.is_available() else \"cpu\") # This is defined for you\n",
        "model.to(device)\n",
        "x = x.to(device)\n",
        "```\n",
        "\n",
        "**The PyTorch documentation is very good; I recommend reading it.**\n",
        "Start here: https://pytorch.org/tutorials/beginner/introyt/trainingyt.html\n",
        "\n",
        "Good luck, and post on Piazza if you have any questions or see any errors."
      ]
    },
    {
      "cell_type": "markdown",
      "metadata": {
        "id": "nFj6JztEWZtD"
      },
      "source": [
        "### Starting Point\n",
        "First, find the distribution of sentence length to decide the max-length for training RNN models."
      ]
    },
    {
      "cell_type": "code",
      "execution_count": null,
      "metadata": {
        "id": "EpvKOjl1WRv-"
      },
      "outputs": [],
      "source": [
        "# Your code goes here\n",
        "# train data is a list with a bunch of sentences in list, the total sentences are 23767\n",
        "import matplotlib.pyplot as plt\n",
        "import numpy as np\n",
        "\n",
        "\n",
        "\n",
        "sentence_length = []\n",
        "\n",
        "for sentence_list in traindata:\n",
        "    sentence_length.append(len(sentence_list))\n",
        "\n",
        "\n"
      ]
    },
    {
      "cell_type": "code",
      "execution_count": null,
      "metadata": {
        "colab": {
          "base_uri": "https://localhost:8080/",
          "height": 484
        },
        "id": "B9JoFP5H7vgR",
        "outputId": "2697bd70-22a1-450f-8a48-45044e733483"
      },
      "outputs": [
        {
          "name": "stdout",
          "output_type": "stream",
          "text": [
            "Maximum length of sentence is:  628\n",
            "Average length of sentence is:  72.52333066857408\n"
          ]
        },
        {
          "data": {
            "image/png": "[encoded data removed]",
            "text/plain": [
              "<Figure size 640x480 with 1 Axes>"
            ]
          },
          "metadata": {},
          "output_type": "display_data"
        }
      ],
      "source": [
        "\n",
        "plt.hist(sentence_length, bins = 60)\n",
        "print(\"Maximum length of sentence is: \", np.max(sentence_length))\n",
        "print(\"Average length of sentence is: \", np.mean(sentence_length))\n",
        "\n",
        "plt.xlabel('sentence length')\n",
        "plt.ylabel('Frequency')\n",
        "plt.show()"
      ]
    },
    {
      "cell_type": "markdown",
      "metadata": {
        "id": "uQ3N_JiCdGre"
      },
      "source": [
        "Based on the above, choose the max-length for training RNN models."
      ]
    },
    {
      "cell_type": "code",
      "execution_count": null,
      "metadata": {
        "id": "u39NZ4xJWN5d"
      },
      "outputs": [],
      "source": [
        "# TODO: select these values based on the above.\n",
        "# MAXLEN = 628 # Maximum length of the input sentences\n",
        "MAXLEN =  268 # 628 is running foreever and the performance is not good, so I changed it to 256 follwed by the comments on Piazza\n",
        "batch_size = 32 # For training"
      ]
    },
    {
      "cell_type": "markdown",
      "metadata": {
        "id": "dZGUmwtlWozK"
      },
      "source": [
        "Now, run the below to load the data.\n",
        "\n",
        "*Note: This is done for you; there is no code to write here*."
      ]
    },
    {
      "cell_type": "code",
      "execution_count": null,
      "metadata": {
        "colab": {
          "base_uri": "https://localhost:8080/"
        },
        "id": "PPJjSIbMUSik",
        "outputId": "dfafed31-dc72-4b42-a019-8306e0ceba20"
      },
      "outputs": [
        {
          "name": "stdout",
          "output_type": "stream",
          "text": [
            "torch.Size([23767, 268])\n",
            "torch.Size([2461, 268])\n",
            "torch.Size([2891, 268])\n"
          ]
        },
        {
          "data": {
            "text/plain": [
              "20598"
            ]
          },
          "execution_count": 8,
          "metadata": {},
          "output_type": "execute_result"
        }
      ],
      "source": [
        "# Covert list of tokens to list of token ids\n",
        "def indexData(data, word2index=None):\n",
        "    \"\"\"\n",
        "    data: corpus - list of list of tokens\n",
        "    word2index: None before training\n",
        "    \"\"\"\n",
        "    if word2index is None:\n",
        "        freqs = {}\n",
        "        for in_list in data:\n",
        "            for w in in_list:\n",
        "              freqs[w] = freqs.get(w, 0) + 1\n",
        "        vocab = [w for w, c in freqs.items() if c > 5] # Ignore words of low frequency\n",
        "        word2index = {word: index + 1 for index, word in enumerate(vocab)}\n",
        "        word2index['<pad>'] = 0\n",
        "    data_ids = []\n",
        "    for seq in data:\n",
        "      data_ids.append([word2index[w] if w in word2index else 0 for w in seq[:MAXLEN]]) # Use maxlen to define the max length of input\n",
        "    return data_ids, word2index\n",
        "\n",
        "\n",
        "# Convert list of token ids to padding sequences\n",
        "def genSeq(data_id):\n",
        "    inputs = [torch.LongTensor(seq) for seq in data_id]\n",
        "    inputs_padded = pad_sequence(sequences=inputs, batch_first=True, padding_value=0)\n",
        "    return inputs_padded\n",
        "\n",
        "# Get dataloader for pytorch models\n",
        "def gendataloader(data_id, batch_size, shuffle=False):\n",
        "    inputs_padded = genSeq(data_id)\n",
        "    print(inputs_padded.shape)\n",
        "    t_dataset = TensorDataset(inputs_padded)\n",
        "    return DataLoader(dataset=t_dataset, batch_size=batch_size, shuffle=shuffle)\n",
        "\n",
        "traindata_id, word2index = indexData(traindata, word2index=None)\n",
        "valdata_id, word2index = indexData(valdata, word2index=word2index)\n",
        "testdata_id, word2index = indexData(testdata, word2index=word2index)\n",
        "\n",
        "train_loader = gendataloader(traindata_id, batch_size, shuffle=True)\n",
        "val_loader = gendataloader(valdata_id, batch_size, shuffle=False)\n",
        "test_loader = gendataloader(testdata_id, batch_size, shuffle=False)\n",
        "\n",
        "device = torch.device(\"cuda:0\" if torch.cuda.is_available() else \"cpu\") # Use 'cpu' if a GPU is not available.\n",
        "\n",
        "# Show vocabulary size\n",
        "vocab_size = len(word2index)\n",
        "vocab_size"
      ]
    },
    {
      "cell_type": "markdown",
      "metadata": {
        "id": "PNOGgLzRWvki"
      },
      "source": [
        "### Creating the Model\n",
        "Next, create an LSTM with PyTorch."
      ]
    },
    {
      "cell_type": "code",
      "execution_count": null,
      "metadata": {
        "id": "ZRku1jWlXKUX"
      },
      "outputs": [],
      "source": [
        "# answer reference from: https://wandb.ai/sauravmaheshkar/LSTM-PyTorch/reports/Using-LSTM-in-PyTorch-A-Tutorial-With-Examples--VmlldzoxMDA2NTA5\n",
        "# answer reference from: https://pytorch.org/docs/stable/generated/torch.nn.LSTM.html\n",
        "# answer reference from pytorch documentation: https://pytorch.org/tutorials/beginner/introyt/trainingyt.html\n",
        "\n",
        "class lmLSTM(nn.Module):\n",
        "    def __init__(self,  vocab_size, embed_dim, hidden_dim, num_layers=1):\n",
        "        \"\"\"\n",
        "        Args:\n",
        "            vocab_size: size of the vocabulary.\n",
        "            embed_dim: size of the word embedding.\n",
        "            hidden_dim: size of the hidden state of the LSTM.\n",
        "            num_layers: number of layers in the LSTM.\n",
        "\n",
        "        \"\"\"\n",
        "        super(lmLSTM, self).__init__()\n",
        "        # Your code goes here\n",
        "\n",
        "        # Embedding layer\n",
        "        self.embedding = nn.Embedding(vocab_size, embed_dim)\n",
        "\n",
        "        # LSTM layers\n",
        "        self.lstm = nn.LSTM(input_size=embed_dim,\n",
        "                            hidden_size=hidden_dim,\n",
        "                            num_layers=num_layers,\n",
        "                            batch_first=True)\n",
        "\n",
        "        #  Linear layer for output\n",
        "        self.linear = nn.Linear(hidden_dim, vocab_size)\n",
        "\n",
        "    def init_state(self, batch_size):\n",
        "        \"\"\" Initialize states of LSTM\n",
        "\n",
        "        This is the first step of the forward pass. The LSTM has two states,\n",
        "        the hidden state and the cell state. These are initialized here and\n",
        "        put to the right device.\n",
        "\n",
        "        Args:\n",
        "            batch_size: size of the batch.\n",
        "\n",
        "        Returns:\n",
        "            initialized states.\n",
        "\n",
        "        \"\"\"\n",
        "        # Your code goes here\n",
        "\n",
        "        # Initialize hidden state and cell state\n",
        "        # Or adding .cuda behind\n",
        "\n",
        "        # h_0 = (num_layers, batch size, hidden size)\n",
        "        hidden_state = torch.zeros(self.lstm.num_layers, batch_size, self.lstm.hidden_size, device = device)\n",
        "\n",
        "        # c_0 = (num_layers, batch size, hidden size)\n",
        "        cell_state = torch.zeros(self.lstm.num_layers, batch_size, self.lstm.hidden_size, device = device)\n",
        "\n",
        "        # as a tuple\n",
        "        return (hidden_state, cell_state)\n",
        "\n",
        "    def detach_states(self, states):\n",
        "        \"\"\"Detach states of LSTM\n",
        "\n",
        "        This is the last step of the forward pass. The LSTM has two states,\n",
        "        the hidden state and the cell state. These are detached because the\n",
        "        LSTM is trained using truncated backpropagation through time.\n",
        "\n",
        "        Args:\n",
        "            states: the LSTM states to detach.\n",
        "\n",
        "        Returns:\n",
        "            detached states.\n",
        "\n",
        "        \"\"\"\n",
        "        # Your code goes here\n",
        "        # Detach both hidden and cell states\n",
        "        detached_hc = states[0].detach(), states[1].detach()\n",
        "        return detached_hc\n",
        "\n",
        "# answer reference: https://www.educative.io/answers/how-to-build-an-lstm-model-using-pytorch\n",
        "\n",
        "    def forward(self, inputs, states):\n",
        "        \"\"\"Defines the computation performed at every call.\n",
        "\n",
        "        Args:\n",
        "            inputs: batch of input sentences.\n",
        "            states: the LSTM states.\n",
        "\n",
        "        Returns:\n",
        "            logits: the output logits.\n",
        "            states: the updated states of the LSTM.\n",
        "\n",
        "        \"\"\"\n",
        "        # Your code goes here\n",
        "        embeddings = self.embedding(inputs)\n",
        "\n",
        "        lstm_output, new_c_states = self.lstm(embeddings, states)\n",
        "\n",
        "        # y_pred = logits = the raw, unnormalized predictions that a model generates\n",
        "        y_pred = self.linear(lstm_output)\n",
        "\n",
        "        return y_pred, new_c_states\n"
      ]
    },
    {
      "cell_type": "markdown",
      "metadata": {
        "id": "Z4futSebdGrf"
      },
      "source": [
        "After creating the model, let's define reasonable hyperparameters as well as the training procedure."
      ]
    },
    {
      "cell_type": "code",
      "execution_count": null,
      "metadata": {
        "id": "b4BenU4fdGrf"
      },
      "outputs": [],
      "source": [
        "# TODO: update Hyperparameters\n",
        "embed_dim = 128 # Embedding layer size\n",
        "hidden_dim = 64 # (LSTM) hidden layer size\n",
        "num_layers= 2 # Number of LSTM layers\n",
        "num_epoch = 5 # The maximum training epochs\n",
        "learning_rate = 0.0001 # For training"
      ]
    },
    {
      "cell_type": "markdown",
      "metadata": {
        "id": "1zxe3EcTdGrf"
      },
      "source": [
        "Initialize the model and any other variables you need. (Change the values from ```None``` to your code)"
      ]
    },
    {
      "cell_type": "code",
      "execution_count": null,
      "metadata": {
        "colab": {
          "base_uri": "https://localhost:8080/"
        },
        "id": "rnUiQaQKdGrf",
        "outputId": "5ab77e61-16a3-47d0-a673-458a3cc094fe"
      },
      "outputs": [
        {
          "name": "stdout",
          "output_type": "stream",
          "text": [
            "lmLSTM(\n",
            "  (embedding): Embedding(20598, 128)\n",
            "  (lstm): LSTM(128, 64, num_layers=2, batch_first=True)\n",
            "  (linear): Linear(in_features=64, out_features=20598, bias=True)\n",
            ")\n",
            "Number of trainable parameters: 4058358\n"
          ]
        }
      ],
      "source": [
        "device = torch.device(\"cuda:0\" if torch.cuda.is_available() else \"cpu\") # Use 'cpu' if a GPU is not available.\n",
        "\n",
        "\n",
        "# Initialization of the model\n",
        "\n",
        "model = lmLSTM(vocab_size, embed_dim, hidden_dim, num_layers)\n",
        "\n",
        "# Move model to the right device\n",
        "model.to(device)\n",
        "\n",
        "# Initialize optimizer and loss function\n",
        "\n",
        "loss_funct = nn.CrossEntropyLoss()\n",
        "\n",
        "# Optimizers specified in the torch.optim package\n",
        "optimizer = torch.optim.Adam(model.parameters(), lr= learning_rate)\n",
        "\n",
        "# model architecture\n",
        "print(model)\n",
        "\n",
        "# number of trainable parameters\n",
        "num_params = sum(p.numel() for p in model.parameters() if p.requires_grad)\n",
        "print(f'Number of trainable parameters: {num_params}')\n",
        "\n",
        "\n"
      ]
    },
    {
      "cell_type": "markdown",
      "metadata": {
        "id": "HjM7jPlJdGrf"
      },
      "source": [
        "Let's define perplexity to use in our analysis.\n",
        "\n",
        "PPL = exp(-1/N * Σ(log P(x_i)))\n",
        "\n",
        "\n",
        "To compute the perplexity based on losses:\n",
        "\n",
        "\n",
        "1.   Iterate through the data.\n",
        "2.   For each input sequence, compute the model's predicted logits.\n",
        "3. Calculate the loss using the predicted logits and the ground truth labels.\n",
        "4. Keep track of the total loss.\n",
        "5. After processing all sequences, compute the average loss.\n",
        "6. Use the average loss to calculate the perplexity.\n",
        "\n",
        "\n",
        "\n",
        "\n",
        "\n"
      ]
    },
    {
      "cell_type": "code",
      "execution_count": null,
      "metadata": {
        "id": "1ZFy4racdGrf"
      },
      "outputs": [],
      "source": [
        "# answer reference from: https://towardsdatascience.com/perplexity-in-language-models-87a196019a94\n",
        "# answer reference from: https://medium.com/@priyankads/perplexity-of-language-models-41160427ed72\n",
        "\n",
        "# Compute perplexity based on losses\n",
        "def perplexity(data, model):\n",
        "    \"\"\"Compute perplexity of the data.\n",
        "\n",
        "    Args:\n",
        "        data: the data to compute the perplexity of.\n",
        "        model: the language model.\n",
        "\n",
        "    Returns:\n",
        "        perplexity of the data (float)\n",
        "\n",
        "    \"\"\"\n",
        "    print(\"model:\",model)\n",
        "    with torch.no_grad():\n",
        "        # Your code goes here\n",
        "        total_loss = 0.0\n",
        "        total_tokens = 0\n",
        "\n",
        "        average_loss_list = []\n",
        "        for batch in data:\n",
        "            inputs = batch[0].to(device)\n",
        "            labels = torch.cat([inputs[:, 1:], torch.zeros(inputs.shape[0], 1).long().to(device)], dim=1)\n",
        "\n",
        "            states = model.init_state(inputs.size()[0])\n",
        "            states = model.detach_states(states)\n",
        "            y_pred, new_c = model(inputs, states)\n",
        "\n",
        "            # ensure that the dimensions of y_pred and labels align properly for computing the loss\n",
        "            y_pred = y_pred.view(-1, y_pred.size(2))\n",
        "            labels= labels.view(-1)\n",
        "\n",
        "            loss_value = loss_funct(y_pred, labels).item()\n",
        "\n",
        "            total_loss += loss_value / batch[0].size()[0]\n",
        "\n",
        "            average_loss_list.append(total_loss)\n",
        "\n",
        "        average_loss = sum(average_loss_list) / len(average_loss_list)\n",
        "        perplexity = np.exp([average_loss])\n",
        "\n",
        "        return perplexity\n",
        "\n"
      ]
    },
    {
      "cell_type": "markdown",
      "metadata": {
        "id": "jC6khYDZdGrf"
      },
      "source": [
        "### Training the Model\n",
        "Now set up the training loop."
      ]
    },
    {
      "cell_type": "code",
      "execution_count": null,
      "metadata": {
        "id": "yXviINQrdGrf"
      },
      "outputs": [],
      "source": [
        "# Train\n",
        "val_pps = [] # List of perplexities on the validation data\n",
        "def training():\n",
        "\n",
        "  \"\"\"Training of the model. Describe what happens in the training loop.\n",
        "\n",
        "  The model is trained using backpropagation through time. The\n",
        "  states of the LSTM are detached at the end of each epoch.\n",
        "\n",
        "  There are three main steps in the training loop:\n",
        "  1. Get the data and run the model\n",
        "  2. Update the parameters\n",
        "  3. Save the loss and compute the perplexity on the validation data;\n",
        "    if the perplexity is higher than the previous epoch, return the model.\n",
        "\n",
        "    Make sure to put the model in train mode at the beginning of each epoch and\n",
        "    put the model in eval mode at the beginning of each evaluation step.\n",
        "\n",
        "  Returns:\n",
        "      the trained model.\n",
        "\n",
        "  \"\"\"\n",
        "\n",
        "\n",
        "  lowest_perplexity_score = float('inf')\n",
        "\n",
        "\n",
        "  for epoch in tqdm(range(num_epoch), desc=\"Epochs\"):\n",
        "      model.train()\n",
        "      # print(tf.test.gpu_device_name())\n",
        "      # Initialize states\n",
        "\n",
        "      states = model.init_state(batch_size)\n",
        "\n",
        "\n",
        "      for batch in train_loader:\n",
        "\n",
        "\n",
        "          inputs = batch[0].to(device)\n",
        "          if inputs.size()[0] != batch_size:\n",
        "            continue\n",
        "\n",
        "          # Preparing the target labels for the model by taking each input sequence, removing the first element, and appending a column of zeros\n",
        "          # To align the model's predictions/logits with the actual targets for training.\n",
        "          labels = torch.cat([inputs[:, 1:], torch.zeros(inputs.shape[0], 1).long().to(device)], dim=1)\n",
        "\n",
        "          states = model.detach_states(states)\n",
        "\n",
        "\n",
        "          # Make predictions for this batch\n",
        "          y_pred, new_c = model(inputs, states)\n",
        "\n",
        "          # ensure that the dimensions of y_pred and labels align properly for computing the loss\n",
        "          y_pred = y_pred.view(-1, y_pred.size(2))\n",
        "          labels= labels.view(-1)\n",
        "\n",
        "          # Zero your gradients for every batch!\n",
        "          optimizer.zero_grad()\n",
        "\n",
        "          # Compute the loss\n",
        "          loss = loss_funct(y_pred, labels)\n",
        "          loss.backward()\n",
        "\n",
        "          # Adjust learning weights\n",
        "          optimizer.step()\n",
        "\n",
        "      val_perplexity = perplexity(val_loader, model)\n",
        "      val_pps.append(val_perplexity)\n",
        "      print(f\"Epochs: {epoch}\")\n",
        "      print(f\"Validation Perplexity: {val_perplexity}\")\n",
        "\n",
        "\n",
        "      if val_perplexity < lowest_perplexity_score:\n",
        "          lowest_perplexity_score = val_perplexity\n",
        "      else:\n",
        "          print(\"The perplexity is higher than the previous epoch, early stop!!!!!!!!!!!!!!!!!!!\")\n",
        "          break\n",
        "\n",
        "  return model\n"
      ]
    },
    {
      "cell_type": "markdown",
      "metadata": {
        "id": "Fxbv_a-wdGrf"
      },
      "source": [
        "Now run the training! This part is done for you, but may take time to run, so be patient."
      ]
    },
    {
      "cell_type": "code",
      "execution_count": null,
      "metadata": {
        "colab": {
          "background_save": true,
          "base_uri": "https://localhost:8080/"
        },
        "id": "t8wJej4TdGrg",
        "outputId": "d90e3a20-25d7-4889-c85e-60ab6dfe11b2"
      },
      "outputs": [
        {
          "name": "stderr",
          "output_type": "stream",
          "text": [
            "\rEpochs:   0%|          | 0/5 [00:00<?, ?it/s]"
          ]
        },
        {
          "name": "stdout",
          "output_type": "stream",
          "text": [
            "model: lmLSTM(\n",
            "  (embedding): Embedding(20598, 128)\n",
            "  (lstm): LSTM(128, 64, num_layers=2, batch_first=True)\n",
            "  (linear): Linear(in_features=64, out_features=20598, bias=True)\n",
            ")\n"
          ]
        },
        {
          "name": "stderr",
          "output_type": "stream",
          "text": [
            "\rEpochs:  20%|██        | 1/5 [1:01:34<4:06:16, 3694.21s/it]"
          ]
        },
        {
          "name": "stdout",
          "output_type": "stream",
          "text": [
            "Epochs: 0\n",
            "Validation Perplexity: [15.77598193]\n"
          ]
        }
      ],
      "source": [
        "\n",
        "s = time.time()\n",
        "model = training()\n",
        "lstm_time = time.time() - s # Record time\n",
        "test_perplexity = perplexity(test_loader, model)"
      ]
    },
    {
      "cell_type": "markdown",
      "metadata": {
        "id": "24IFCcMVdGrg"
      },
      "source": [
        "### Evaluating the Model\n",
        "Now, plot the perplexity on the eval data against the number of epochs."
      ]
    },
    {
      "cell_type": "code",
      "execution_count": null,
      "metadata": {
        "id": "nxwnIKZjOuBQ"
      },
      "outputs": [],
      "source": [
        "print(val_pps)\n",
        "plt.figure(figsize=(10, 8))\n",
        "plt.plot(val_pps, label='Data Perplexity of Validation Data', color='red')\n",
        "plt.xlabel('Epochs')\n",
        "plt.ylabel('Data Perplexity')\n",
        "plt.title('Epochs vs.Validation Data Perplexity')\n",
        "plt.legend()\n",
        "plt.grid(True, which=\"both\", ls=\"--\", c='0.65')\n",
        "plt.show()"
      ]
    },
    {
      "cell_type": "markdown",
      "metadata": {
        "id": "P6J84cZhdGrg"
      },
      "source": [
        "Finally, describe your model architecture, hyperparameters, and experimental procedure. Then, discuss the results you obtained."
      ]
    },
    {
      "cell_type": "markdown",
      "metadata": {
        "id": "9AqqSh0udGrg"
      },
      "source": [
        "**Model Architecture, Hyperparameters, and Experimental Procedure**\n",
        "\n",
        "\n",
        "The model first starts from an embedding layer.\n",
        "It is responsible for converting discrete tokens (in this case, there are 20598 unique tokens) into continuous vector representations of size 128.\n",
        "\n",
        "Then, the LSTM layer takes the 128-dimensional input from the embedding layer and processes it through two LSTM layers, each with 64 hidden units. The batch_first=True argument means that the input and output tensors are expected to have the batch size as their first dimension.\n",
        "\n",
        "Last followed by the Linear layer. It takes the output of the LSTM layer (which has 64 dimensions) and applies a linear transformation to produce an output of size 20598. This size corresponds to the number of possible output tokens, which is the same as the number of unique tokens in the vocabulary.\n",
        "\n",
        "For the hyperparameters, I set the maxlen as 256, I initially tried 658, which is the maximum length but it runned forever with terrible perplexity. So I tried the mean, but the perplexity is still terrible. so I followed the suggestion on piazza and changed it to 256, and the perplexity becomes normal. These are the examples of the results:\n",
        "\n",
        "maxlen: 256, epoch: 10, perplexity:17 -> 9.7\n",
        "maxlen: 256, epoch: 5, perplexity: 16 -> 10\n",
        "maxlen: 73, epoch:5, perplexity: 332 -> 179\n",
        "\n",
        "The rest of the hyperparameters are:\n",
        "embed_dim = 128\n",
        "\n",
        "hidden_dim = 64\n",
        "\n",
        "num_layers= 2\n",
        "\n",
        "num_epoch = 5 # The maximum training epochs, more epochs are not improving\n",
        "\n",
        "learning_rate = 0.0001\n",
        "\n",
        "The experimental procedure involves data processing by removing punctuations and removing \"<unk>\" , followed by loading data and connected with lstm (2 layers). We keep track of the perplexity of the validation data and also the loss during training to optimize the model.\n",
        "\n",
        "\n",
        "**Results**\n",
        "\n",
        "The reuslts of validation data on perplexity showed that the perplexity is consistently improving. The length of the text affexts a lot how the perplexity was initialed. i.e. 72 max length resulted to 332 perplexity initiallly. And changing to 256 resulted to a more reasonable numbers."
      ]
    },
    {
      "cell_type": "code",
      "execution_count": null,
      "metadata": {
        "id": "7Dp1vSnjZH8d"
      },
      "outputs": [],
      "source": []
    }
  ],
  "metadata": {
    "accelerator": "GPU",
    "colab": {
      "provenance": []
    },
    "kernelspec": {
      "display_name": "Python 3",
      "name": "python3"
    },
    "language_info": {
      "name": "python"
    }
  },
  "nbformat": 4,
  "nbformat_minor": 0
}